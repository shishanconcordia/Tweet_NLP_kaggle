{
 "cells": [
  {
   "cell_type": "code",
   "execution_count": 1,
   "metadata": {},
   "outputs": [],
   "source": [
    "import pandas as pd, numpy as np\n",
    "import tensorflow as tf\n",
    "import tensorflow.keras.backend as K\n",
    "from sklearn.model_selection import StratifiedKFold\n",
    "import transformers as tm\n",
    "# import spacy\n",
    "# import tokenizers as tok\n",
    "# from \n",
    "# import seaborn as sns"
   ]
  },
  {
   "cell_type": "code",
   "execution_count": 187,
   "metadata": {},
   "outputs": [],
   "source": [
    "from tokenizers import Tokenizer\n",
    "from tokenizers.decoders import ByteLevel as ByteLevelDecoder\n",
    "from tokenizers.models import BPE\n",
    "from tokenizers.normalizers import Lowercase, NFKC, Sequence\n",
    "from tokenizers.pre_tokenizers import ByteLevel"
   ]
  },
  {
   "cell_type": "code",
   "execution_count": 3,
   "metadata": {},
   "outputs": [],
   "source": [
    "pd.options.display.max_rows = 100"
   ]
  },
  {
   "cell_type": "code",
   "execution_count": 4,
   "metadata": {},
   "outputs": [],
   "source": [
    "MAX_LEN = 150\n",
    "# tokenizer = tm.BertTokenizer.from_pretrained('bert-base-uncased', do_lower_case=True)"
   ]
  },
  {
   "cell_type": "code",
   "execution_count": 5,
   "metadata": {},
   "outputs": [],
   "source": [
    "sentiment_id = {'positive': 1313, 'negative': 2430, 'neutral': 7974}\n",
    "train = pd.read_csv('train.csv').fillna('')\n",
    "test = pd.read_csv('test.csv')"
   ]
  },
  {
   "cell_type": "code",
   "execution_count": null,
   "metadata": {},
   "outputs": [],
   "source": [
    "a = train.text[0]\n",
    "# tokenizer = BertTokenizer.from_pretrained('bert-base-cased')\n",
    "print(a)\n",
    "print(Tokenizer.encode(a))\n",
    "Tokenizer.convert_tokens_to_ids(a)"
   ]
  },
  {
   "cell_type": "code",
   "execution_count": 10,
   "metadata": {},
   "outputs": [
    {
     "data": {
      "text/plain": [
       "100"
      ]
     },
     "execution_count": 10,
     "metadata": {},
     "output_type": "execute_result"
    }
   ],
   "source": [
    "tokenizer.convert_tokens_to_ids('SEP')"
   ]
  },
  {
   "cell_type": "code",
   "execution_count": 25,
   "metadata": {},
   "outputs": [
    {
     "data": {
      "text/plain": [
       "<matplotlib.axes._subplots.AxesSubplot at 0x1a56d54490>"
      ]
     },
     "execution_count": 25,
     "metadata": {},
     "output_type": "execute_result"
    },
    {
     "data": {
      "image/png": "[encoded data removed]",
      "text/plain": [
       "<Figure size 432x288 with 1 Axes>"
      ]
     },
     "metadata": {
      "needs_background": "light"
     },
     "output_type": "display_data"
    }
   ],
   "source": [
    "train.text.map(len).plot(kind = 'hist')"
   ]
  },
  {
   "cell_type": "code",
   "execution_count": 26,
   "metadata": {},
   "outputs": [],
   "source": [
    "ct = train.shape[0]\n",
    "input_ids = np.ones((ct,MAX_LEN),dtype='int32')\n",
    "attention_mask = np.zeros((ct,MAX_LEN),dtype='int32')\n",
    "token_type_ids = np.zeros((ct,MAX_LEN),dtype='int32')\n",
    "start_tokens = np.zeros((ct,MAX_LEN),dtype='int32')\n",
    "end_tokens = np.zeros((ct,MAX_LEN),dtype='int32')\n",
    "\n",
    "for k in range(train.shape[0]):\n",
    "    \n",
    "    # FIND OVERLAP\n",
    "    text1 = \" \"+\" \".join(train.loc[k,'text'].split())\n",
    "    text2 = \" \".join(train.loc[k,'selected_text'].split())\n",
    "    idx = text1.find(text2)\n",
    "    chars = np.zeros((len(text1)))\n",
    "    chars[idx:idx+len(text2)]=1\n",
    "    if text1[idx-1]==' ': chars[idx-1] = 1 \n",
    "    enc = tokenizer.encode(text1) \n",
    "        \n",
    "    # ID_OFFSETS\n",
    "    offsets = []\n",
    "    idx=0\n",
    "    for t in enc:\n",
    "        w = tokenizer.decode([t])\n",
    "        offsets.append((idx,idx+len(w)))\n",
    "        idx += len(w)\n",
    "    \n",
    "    # START END TOKENS\n",
    "    toks = []\n",
    "    for i,(a,b) in enumerate(offsets):\n",
    "        sm = np.sum(chars[a:b])\n",
    "        if sm>0: toks.append(i) \n",
    "        \n",
    "    s_tok = sentiment_id[train.loc[k,'sentiment']]\n",
    "    input_ids[k,:len(enc)+5] = [0] + enc + [2,2] + [s_tok] + [2]\n",
    "    attention_mask[k,:len(enc)+5] = 1\n",
    "    if len(toks)>0:\n",
    "        start_tokens[k,toks[0]+1] = 1\n",
    "        end_tokens[k,toks[-1]+1] = 1"
   ]
  },
  {
   "cell_type": "code",
   "execution_count": 22,
   "metadata": {},
   "outputs": [],
   "source": [
    "# ct = test.shape[0]\n",
    "# input_ids_t = np.ones((ct,MAX_LEN),dtype='int32')\n",
    "# attention_mask_t = np.zeros((ct,MAX_LEN),dtype='int32')\n",
    "# token_type_ids_t = np.zeros((ct,MAX_LEN),dtype='int32')\n",
    "\n",
    "# for k in range(test.shape[0]):\n",
    "        \n",
    "#     # INPUT_IDS\n",
    "#     text1 = \" \"+\" \".join(test.loc[k,'text'].split())\n",
    "#     enc = tokenizer.encode(text1)                \n",
    "#     s_tok = sentiment_id[test.loc[k,'sentiment']]\n",
    "#     input_ids_t[k,:len(enc.ids)+5] = [0] + enc.ids + [2,2] + [s_tok] + [2]\n",
    "#     attention_mask_t[k,:len(enc.ids)+5] = 1"
   ]
  },
  {
   "cell_type": "code",
   "execution_count": 11,
   "metadata": {},
   "outputs": [],
   "source": [
    "# Load dataset, tokenizer, model from pretrained model/vocabulary\n",
    "tokenizer = tm.BertTokenizer.from_pretrained('bert-base-cased')\n",
    "model = tm.TFBertModel.from_pretrained('bert-base-cased')\n",
    "# data = tensorflow_datasets.load('glue/mrpc')"
   ]
  },
  {
   "cell_type": "code",
   "execution_count": 34,
   "metadata": {},
   "outputs": [
    {
     "data": {
      "text/plain": [
       "(<tf.Tensor: shape=(1, 12, 768), dtype=float32, numpy=\n",
       " array([[[ 0.54562247,  0.10151995,  0.20483279, ..., -0.20169523,\n",
       "           0.06352851, -0.25202286],\n",
       "         [ 0.36188227, -0.44941208,  0.32484427, ..., -0.00762495,\n",
       "          -0.12487191,  0.19518466],\n",
       "         [-0.28422767,  0.42154938, -0.09836285, ..., -0.065596  ,\n",
       "           0.5834959 , -0.6345681 ],\n",
       "         ...,\n",
       "         [-0.25282323, -0.89835644, -0.20062195, ...,  0.276256  ,\n",
       "          -0.23200247,  0.02452909],\n",
       "         [ 0.32234138, -0.44153506,  0.31408033, ..., -0.41396004,\n",
       "          -0.12359288, -0.38026989],\n",
       "         [ 1.6184759 ,  0.35261264, -0.19951189, ..., -0.5856422 ,\n",
       "          -0.20135476, -0.5900586 ]]], dtype=float32)>,\n",
       " <tf.Tensor: shape=(1, 768), dtype=float32, numpy=\n",
       " array([[-0.63010836,  0.38618082,  0.99979645, -0.99595463,  0.9609583 ,\n",
       "          0.93704927,  0.9930473 , -0.9984431 , -0.98469585, -0.7113472 ,\n",
       "          0.98905396,  0.99887824, -0.999682  , -0.99967444,  0.9197888 ,\n",
       "         -0.9815445 ,  0.9915433 , -0.5680007 , -0.99994177, -0.84554976,\n",
       "         -0.8239653 , -0.9998093 ,  0.16861415,  0.98911136,  0.9822668 ,\n",
       "          0.11204626,  0.9931373 ,  0.9999465 ,  0.9584403 , -0.67168236,\n",
       "          0.26702073, -0.99198484,  0.91254306, -0.9990983 ,  0.04350443,\n",
       "          0.23023754,  0.8047624 , -0.1867729 ,  0.89380515, -0.964807  ,\n",
       "         -0.77268654, -0.92306876,  0.81287515, -0.5244426 ,  0.9500183 ,\n",
       "          0.27687165, -0.13178612, -0.01338694,  0.06727041,  0.99851835,\n",
       "         -0.9860999 ,  0.95619524, -0.9992128 ,  0.9909355 ,  0.9975043 ,\n",
       "          0.06971965,  0.9963342 ,  0.12413549, -0.9997938 ,  0.09958319,\n",
       "          0.94651264,  0.31799236,  0.9703479 ,  0.16047882,  0.6753883 ,\n",
       "         -0.32902992, -0.90393716,  0.03176584, -0.4209581 ,  0.30376166,\n",
       "          0.42606273,  0.28028148,  0.99167687, -0.93069917, -0.0393391 ,\n",
       "         -0.8679219 , -0.5552466 , -0.99982107,  0.98059475,  0.99994457,\n",
       "          0.925459  , -0.99969983,  0.99651206, -0.14423   , -0.9207107 ,\n",
       "          0.8738041 , -0.999814  , -0.9994977 , -0.00237672, -0.61549944,\n",
       "          0.9370385 , -0.99446434,  0.77273375, -0.9580276 ,  0.9999598 ,\n",
       "         -0.96495557, -0.08980402,  0.3788304 ,  0.9775842 , -0.8400017 ,\n",
       "         -0.644749  ,  0.97290033,  0.9998313 , -0.99917257,  0.9997025 ,\n",
       "          0.848098  , -0.9277671 , -0.92608607,  0.8751967 , -0.09162968,\n",
       "          0.9950213 , -0.9915266 , -0.90595037, -0.18504857,  0.9544192 ,\n",
       "         -0.93640435,  0.9939181 ,  0.91672957, -0.30994248,  0.9999667 ,\n",
       "         -0.10738956,  0.9862467 ,  0.99911815,  0.9592735 , -0.943782  ,\n",
       "         -0.12492706, -0.8135105 ,  0.9467933 , -0.71640825, -0.1913431 ,\n",
       "          0.73940206, -0.99383914, -0.9995016 ,  0.99944395, -0.26487988,\n",
       "          0.99995214, -0.9990215 ,  0.99886453, -0.9999047 , -0.9022785 ,\n",
       "         -0.79220986,  0.04200889, -0.9950423 , -0.49481022,  0.994311  ,\n",
       "         -0.01790643, -0.9759759 , -0.91818404,  0.55721813, -0.9208481 ,\n",
       "          0.48360357,  0.7640466 , -0.979245  ,  0.94035804,  0.99918246,\n",
       "          0.9845285 ,  0.99284416,  0.13576445, -0.98368037,  0.97042   ,\n",
       "          0.99401766, -0.99952793,  0.79594296, -0.998983  ,  0.99849135,\n",
       "          0.9732018 ,  0.8842396 , -0.999204  ,  0.99987924, -0.82851267,\n",
       "         -0.30947688,  0.5245067 ,  0.00105577, -0.99983174,  0.43029216,\n",
       "          0.39977396,  0.73991287,  0.99803144, -0.99685377,  0.99817723,\n",
       "          0.4254676 ,  0.29460573,  0.5807944 ,  0.99978554, -0.9972384 ,\n",
       "         -0.99108464, -0.9902214 ,  0.01898142,  0.9124815 ,  0.7737044 ,\n",
       "          0.4580314 ,  0.95714056,  0.9997633 ,  0.8252005 , -0.99654   ,\n",
       "         -0.3074154 ,  0.9819327 , -0.03263042,  0.99996525, -0.8027503 ,\n",
       "         -0.9997201 , -0.86268   ,  0.9801298 ,  0.99766433, -0.26303512,\n",
       "          0.9915378 , -0.8222563 , -0.49420652,  0.99670124, -0.88880926,\n",
       "          0.9996818 ,  0.32928523,  0.9250909 ,  0.88198215,  0.99431145,\n",
       "         -0.94890386,  0.03062536,  0.14643115, -0.80006605,  0.999838  ,\n",
       "         -0.99953246, -0.09602217,  0.43258607, -0.9937913 , -0.9984078 ,\n",
       "          0.9870975 ,  0.13723499, -0.7364312 , -0.16757227,  0.90340495,\n",
       "          0.1806069 ,  0.9578335 ,  0.9907052 , -0.8218335 , -0.909011  ,\n",
       "         -0.99975276, -0.9994817 , -0.9195498 , -0.98882705, -0.00335414,\n",
       "          0.6651216 , -0.34189525, -0.95516706, -0.9997173 ,  0.9677376 ,\n",
       "          0.94052756, -0.9639194 , -0.29285935, -0.86891764, -0.9996488 ,\n",
       "          0.8654932 , -0.9365058 , -0.9972079 ,  0.99938697, -0.9490733 ,\n",
       "          0.9992162 ,  0.9830501 , -0.99505657,  0.9079323 , -0.9997902 ,\n",
       "         -0.0815666 , -0.9592821 ,  0.50277895,  0.89595664, -0.9045378 ,\n",
       "          0.05167156,  0.9952259 , -0.9848896 , -0.88426834,  0.8717596 ,\n",
       "         -0.9998675 ,  0.91610026, -0.12329735,  0.9993517 ,  0.94666964,\n",
       "         -0.8163949 ,  0.99264854,  0.9656589 , -0.99208915, -0.99974066,\n",
       "          0.9351358 ,  0.5545152 , -0.9935728 , -0.07738788,  0.99993145,\n",
       "         -0.9997028 , -0.80883837, -0.931753  , -0.99560595, -0.99963176,\n",
       "          0.55340225, -0.95189095,  0.25833935,  0.9893484 ,  0.44688818,\n",
       "          0.31362814,  0.99505335,  0.9892995 ,  0.36408365, -0.49282473,\n",
       "         -0.07921854, -0.9815594 , -0.77213037,  0.839588  ,  0.16563687,\n",
       "         -0.99994135,  0.9997976 , -0.99644995,  0.95617837,  0.9497569 ,\n",
       "         -0.9994544 ,  0.8888759 ,  0.16472562, -0.9902114 , -0.05519405,\n",
       "          0.99987316,  0.9887938 ,  0.0836639 ,  0.0666574 ,  0.94185746,\n",
       "         -0.42948782,  0.8571456 , -0.91355765, -0.85155123,  0.08734374,\n",
       "         -0.9411407 ,  0.99685055,  0.91334295, -0.99341816,  0.99926126,\n",
       "          0.02443745,  0.7781199 , -0.921983  ,  0.90864325,  0.99152493,\n",
       "          0.0711313 , -0.7412603 ,  0.05609666,  0.56988233, -0.9949892 ,\n",
       "          0.14074765, -0.99934936, -0.62776077,  0.9573894 ,  0.9938698 ,\n",
       "         -0.99718326,  0.984853  , -0.11820404,  0.967901  , -0.9997007 ,\n",
       "          0.99996966, -0.9980265 ,  0.03569188,  0.81501436, -0.9111204 ,\n",
       "         -0.78416634,  0.99443454,  0.9958286 ,  0.9933714 , -0.9007174 ,\n",
       "         -0.80158454,  0.9375868 ,  0.9739873 , -0.99102503, -0.04948844,\n",
       "         -0.9998889 , -0.8177214 ,  0.9915913 ,  0.99956596,  0.11903979,\n",
       "          0.5226049 , -0.999637  ,  0.9792391 , -0.9630203 , -0.9511032 ,\n",
       "          0.00284548, -0.90756595,  0.8722042 ,  0.9996434 , -0.851076  ,\n",
       "          0.8397488 ,  0.06397478, -0.9934673 ,  0.9606423 ,  0.91457707,\n",
       "          0.9998418 , -0.9854449 ,  0.5111749 ,  0.99204   , -0.11533948,\n",
       "         -0.7926273 ,  0.48342645,  0.99985707, -0.9926172 , -0.13863489,\n",
       "         -0.9995944 , -0.02767418, -0.54443216, -0.4121337 , -0.7291839 ,\n",
       "          0.08171129, -0.91611683,  0.98608714,  0.51144   ,  0.72275156,\n",
       "         -0.42230815,  0.97358835, -0.05920908, -0.02227906, -0.28583318,\n",
       "         -0.47471112,  0.38498256,  0.44245842,  0.98328197, -0.98945636,\n",
       "          0.9991138 , -0.5866522 , -0.9999551 , -0.99938315, -0.9354261 ,\n",
       "         -0.99812317,  0.9330781 , -0.98655397,  0.9931324 ,  0.9726722 ,\n",
       "         -0.9997095 , -0.9998885 , -0.9969567 , -0.9791352 ,  0.92121524,\n",
       "          0.7966514 ,  0.02583951,  0.72895145, -0.7036431 ,  0.0697706 ,\n",
       "         -0.08386233, -0.01157392, -0.9698544 , -0.6919731 , -0.9997857 ,\n",
       "          0.89269084, -0.9999532 , -0.8785571 ,  0.9993951 , -0.9990038 ,\n",
       "         -0.95236987, -0.9336746 , -0.94656813, -0.8447597 ,  0.29702982,\n",
       "          0.984522  , -0.4344651 , -0.7938575 , -0.9977232 ,  0.9891154 ,\n",
       "         -0.8942627 ,  0.0446356 , -0.9161436 , -0.97825915,  0.9996133 ,\n",
       "          0.9208974 , -0.3519512 , -0.01611503, -0.99870384,  0.9964753 ,\n",
       "         -0.9697273 , -0.95335287, -0.98947376,  0.20069084, -0.96978164,\n",
       "         -0.99972844, -0.10274194,  0.99930656,  0.9934612 ,  0.97652715,\n",
       "         -0.00248557, -0.40379104, -0.93516254,  0.08911505, -0.9999215 ,\n",
       "          0.9179662 ,  0.95214146, -0.9881251 , -0.90400326,  0.99494195,\n",
       "          0.98793393, -0.9838828 , -0.9921139 ,  0.9668012 ,  0.28783363,\n",
       "          0.97802764, -0.8700551 , -0.30042142,  0.2815482 ,  0.10850082,\n",
       "         -0.9932644 , -0.90536726,  0.9972601 , -0.9998598 ,  0.9883078 ,\n",
       "          0.9988362 ,  0.999785  , -0.30477807,  0.19664627, -0.9947546 ,\n",
       "         -0.96201915, -0.6023848 ,  0.5147906 , -0.99990284,  0.99981546,\n",
       "         -0.99995166,  0.6499348 , -0.8400309 ,  0.95662564,  0.99552405,\n",
       "         -0.49386394, -0.99990493, -0.9997977 ,  0.92588127,  0.22093603,\n",
       "          0.9943215 ,  0.39562514,  0.2666617 , -0.89197373,  0.07086958,\n",
       "          0.99790967, -0.9218209 , -0.92904   , -0.99972916,  0.9996561 ,\n",
       "          0.75361186, -0.998825  ,  0.99889654, -0.99919397,  0.95311826,\n",
       "          0.9810728 ,  0.8515746 ,  0.98530906, -0.999851  ,  0.9999612 ,\n",
       "         -0.99962664,  0.9975203 , -0.9999643 , -0.9998496 ,  0.99980223,\n",
       "         -0.99057   , -0.9234904 , -0.9996454 , -0.999496  ,  0.78752875,\n",
       "          0.08072688, -0.17453356,  0.99210733, -0.9997843 , -0.9990493 ,\n",
       "         -0.21447928, -0.9684076 , -0.89174265,  0.99894446, -0.85918266,\n",
       "          0.99618846, -0.21923627,  0.9557041 ,  0.46614602,  0.99928206,\n",
       "          0.9821651 , -0.92843604, -0.76015055, -0.99633914,  0.9879753 ,\n",
       "         -0.8639988 ,  0.31707868,  0.9636784 ,  0.04430551, -0.81495625,\n",
       "          0.22415222, -0.998079  ,  0.5612972 ,  0.1509367 ,  0.96540225,\n",
       "          0.9636187 ,  0.85249966, -0.2921248 , -0.6085812 , -0.3502697 ,\n",
       "         -0.99643093,  0.60187143, -0.99938387,  0.99014276, -0.98304397,\n",
       "         -0.03878633, -0.38865364, -0.18281235, -0.9753791 ,  0.9994724 ,\n",
       "          0.9986196 , -0.9703812 , -0.08470578,  0.9922097 , -0.8122508 ,\n",
       "          0.98552793, -0.9942495 ,  0.1378625 ,  0.9834047 , -0.7988501 ,\n",
       "          0.9852976 , -0.07790213, -0.01735449,  0.95242816, -0.99680114,\n",
       "         -0.95280206, -0.68268   ,  0.5050343 ,  0.22776161, -0.9782073 ,\n",
       "          0.06183602,  0.9964108 , -0.29421642, -0.99973065,  0.97516483,\n",
       "         -0.9994991 , -0.08880523,  0.9869546 , -0.8449706 ,  0.9999052 ,\n",
       "         -0.9030718 ,  0.13010958,  0.24659018, -0.99979   , -0.99983555,\n",
       "         -0.05199284, -0.08502357, -0.96532613,  0.99989325, -0.07905486,\n",
       "          0.9199128 , -0.999709  ,  0.2704785 ,  0.99896526,  0.2108858 ,\n",
       "          0.9207868 , -0.8625539 , -0.9787224 , -0.98294294, -0.53645563,\n",
       "         -0.08202236,  0.9541465 , -0.9970904 , -0.9233522 , -0.91868144,\n",
       "          0.9999058 , -0.99861133, -0.9339089 , -0.98807687,  0.6012493 ,\n",
       "          0.9012682 ,  0.4080629 ,  0.05765755, -0.94816744,  0.9735617 ,\n",
       "         -0.96465284,  0.99735224, -0.996112  , -0.9978166 ,  0.99977815,\n",
       "          0.8224457 , -0.99914664,  0.47547856, -0.22187477,  0.35854602,\n",
       "          0.24447897,  0.90967953, -0.9785595 , -0.13363642, -0.997749  ,\n",
       "          0.91856825, -0.9386063 , -0.99643236, -0.5169895 , -0.14617743,\n",
       "         -0.9085657 ,  0.99528927,  0.9749515 ,  0.9999196 , -0.99978113,\n",
       "          0.80523556,  0.03567956,  0.9992906 , -0.03238228, -0.62482214,\n",
       "          0.9765858 ,  0.9995358 , -0.9214147 ,  0.93694675, -0.16124836,\n",
       "          0.06024622,  0.42803407, -0.07510202,  0.99943686, -0.97029334,\n",
       "         -0.2186002 , -0.98899037, -0.99984884,  0.999855  ,  0.03518251,\n",
       "          0.99148846,  0.14502653,  0.80811423, -0.8803418 ,  0.98852366,\n",
       "         -0.99429786, -0.90060335, -0.9999603 , -0.03039493, -0.9593416 ,\n",
       "         -0.9939759 ,  0.1061907 ,  0.9932555 , -0.99943966, -0.9935465 ,\n",
       "         -0.5086779 , -0.99996936,  0.9677119 , -0.9968436 , -0.9394794 ,\n",
       "         -0.98895305,  0.99960095, -0.24176478, -0.9134866 ,  0.9824224 ,\n",
       "         -0.9835244 ,  0.9836419 ,  0.9744113 , -0.83602226,  0.10843539,\n",
       "          0.07724058, -0.80367285, -0.99895847, -0.97297275, -0.96439296,\n",
       "          0.9137363 , -0.99439293, -0.95449734,  0.9966852 ,  0.9930706 ,\n",
       "         -0.9985509 , -0.9974442 ,  0.9993529 ,  0.55032074,  0.99213564,\n",
       "         -0.43120944, -0.9998216 , -0.9998873 ,  0.13093238,  0.16704613,\n",
       "          0.99746156, -0.36276212,  0.85632384,  0.78898865, -0.7364448 ,\n",
       "          0.9012953 , -0.74077296, -0.40729827, -0.4890379 ,  0.00668886,\n",
       "          0.9999517 , -0.8729311 ,  0.99421185]], dtype=float32)>)"
      ]
     },
     "execution_count": 34,
     "metadata": {},
     "output_type": "execute_result"
    }
   ],
   "source": [
    "a = np.array([tokenizer.encode(train.text[0])])\n",
    "model(a)\n"
   ]
  },
  {
   "cell_type": "code",
   "execution_count": 31,
   "metadata": {},
   "outputs": [],
   "source": [
    "a = tf.Variable(a)"
   ]
  },
  {
   "cell_type": "code",
   "execution_count": null,
   "metadata": {},
   "outputs": [],
   "source": []
  }
 ],
 "metadata": {
  "kernelspec": {
   "display_name": "Python 3",
   "language": "python",
   "name": "python3"
  },
  "language_info": {
   "codemirror_mode": {
    "name": "ipython",
    "version": 3
   },
   "file_extension": ".py",
   "mimetype": "text/x-python",
   "name": "python",
   "nbconvert_exporter": "python",
   "pygments_lexer": "ipython3",
   "version": "3.7.7"
  }
 },
 "nbformat": 4,
 "nbformat_minor": 4
}
